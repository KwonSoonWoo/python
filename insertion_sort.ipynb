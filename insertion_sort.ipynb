{
 "cells": [
  {
   "cell_type": "code",
   "execution_count": 8,
   "metadata": {},
   "outputs": [],
   "source": []
  },
  {
   "cell_type": "code",
   "execution_count": 9,
   "metadata": {},
   "outputs": [],
   "source": [
    "def insertion_sort(list):\n",
    "    length = len(list)\n",
    "    # 1번째 항목부터 끝까지 도는 인덱스\n",
    "    for i in range(1, length):\n",
    "        # i번째 인덱스의 값\n",
    "        curr_value = list[i]\n",
    "        # i번째 인덱스\n",
    "        index = i\n",
    "        # index가 0보다 크고, i-1번째 값보다 i번째의 값이 크면 while문 실행\n",
    "        while index > 0 and list[index -1] > curr_value:\n",
    "            list[index] = list[index -1]\n",
    "            index -= 1\n",
    "        list[index] = curr_value\n",
    "    return list"
   ]
  },
  {
   "cell_type": "code",
   "execution_count": 11,
   "metadata": {},
   "outputs": [],
   "source": [
    "def insertion_sort(list):\n",
    "    length = len(list)\n",
    "    for i in range(1, length):\n",
    "        curr_value = list[i]\n",
    "        index = i\n",
    "        while index > 0 and list[index -1] > curr_value:\n",
    "            list[index] = list[index -1]\n",
    "            index -= 1\n",
    "        list[index] = curr_value\n",
    "    return list"
   ]
  },
  {
   "cell_type": "code",
   "execution_count": 12,
   "metadata": {},
   "outputs": [],
   "source": [
    "def insertion_sort(list):\n",
    "    length = len(list)\n",
    "    for i in range(1, length):\n",
    "        curr_value = list[i]\n",
    "        index = i\n",
    "        while index > 0 and list[index -1] > curr_value:\n",
    "            list[index] = list[index -1]\n",
    "            index -= 1\n",
    "        list[index] = curr_value\n",
    "    return list"
   ]
  },
  {
   "cell_type": "code",
   "execution_count": 1,
   "metadata": {},
   "outputs": [],
   "source": [
    "def insertion_sort(list):\n",
    "    length = len(list)\n",
    "    for i in range(1, length):\n",
    "        curr_value = list[i]\n",
    "        index = i\n",
    "        while index > 0 and list[index -1] > curr_value:\n",
    "            list[index] = list[index -1]\n",
    "            index -= 1\n",
    "        list[index] = curr_value\n",
    "    return list"
   ]
  },
  {
   "cell_type": "code",
   "execution_count": 1,
   "metadata": {},
   "outputs": [],
   "source": [
    "def insertion_sort(list):\n",
    "    length = len(list)\n",
    "    for i in range(1, length):\n",
    "        curr_value = list[i]\n",
    "        index = i\n",
    "        while index > 0 and list[index -1] > curr_value:\n",
    "            list[index] = list[index -1]\n",
    "            index -= 1\n",
    "        list[index] = curr_value\n",
    "    return list"
   ]
  },
  {
   "cell_type": "code",
   "execution_count": null,
   "metadata": {},
   "outputs": [],
   "source": []
  }
 ],
 "metadata": {
  "kernelspec": {
   "display_name": "Python 3",
   "language": "python",
   "name": "python3"
  },
  "language_info": {
   "codemirror_mode": {
    "name": "ipython",
    "version": 3
   },
   "file_extension": ".py",
   "mimetype": "text/x-python",
   "name": "python",
   "nbconvert_exporter": "python",
   "pygments_lexer": "ipython3",
   "version": "3.6.5"
  }
 },
 "nbformat": 4,
 "nbformat_minor": 2
}
