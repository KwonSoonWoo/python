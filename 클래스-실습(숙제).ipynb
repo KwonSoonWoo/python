{
 "cells": [
  {
   "cell_type": "code",
   "execution_count": 1,
   "metadata": {},
   "outputs": [],
   "source": [
    "# 일상생활에서 접할 수 있는 서로 연관되는 어떠한 것들에 대하여 3개의 클래스를 만들고, \n",
    "# 각각에게 영향을 줄 수 있는 메서드를 만들고 사용해서 다른 인스턴스의 속성에 영향을 주는\n",
    "# 코드를 작성해본다.\n",
    "\n",
    "# ex) 사람 클래스와 고양이 클래스 -> 사람이 '먹이준다' 메서드 실행 시 \n",
    "# 고양이 인스턴스를 전달, 고양이 인스턴스의 포만감을 +"
   ]
  },
  {
   "cell_type": "code",
   "execution_count": 18,
   "metadata": {},
   "outputs": [],
   "source": [
    "class Sw:\n",
    "    def __init__(self, name):\n",
    "        self.name = name\n",
    "        self.__money = 0\n",
    "        self.__happy = 0\n",
    "        \n",
    "    def earn(self, item):\n",
    "         if self.__money < 100:\n",
    "                item.sw(self)\n",
    "    \n",
    "    @property\n",
    "    def happy(self):\n",
    "        return self.__happy\n",
    "    \n",
    "    @happy.setter\n",
    "    def happy(self, new_happy):\n",
    "        self.__happy = new_happy\n",
    "        \n",
    "    @property\n",
    "    def money(self):\n",
    "        return self.__money\n",
    "    \n",
    "    @money.setter\n",
    "    def money(self, stop_money):\n",
    "        self.__money = stop_money\n",
    "    \n",
    "    \n",
    "    def __repr__(self):\n",
    "        return f'{self.name} (money: {self.__money}만큼 벌었다!, happy: {self.happy}만큼 증가했다!)'"
   ]
  },
  {
   "cell_type": "code",
   "execution_count": 19,
   "metadata": {},
   "outputs": [],
   "source": [
    "class Money:\n",
    "    def sw(self, sw):\n",
    "        sw.money += 10"
   ]
  },
  {
   "cell_type": "code",
   "execution_count": 20,
   "metadata": {},
   "outputs": [],
   "source": [
    "class Happy:\n",
    "    def sw(self, sw):\n",
    "        sw.happy += 10"
   ]
  },
  {
   "cell_type": "code",
   "execution_count": 21,
   "metadata": {},
   "outputs": [],
   "source": [
    "me = Sw('권순우')"
   ]
  },
  {
   "cell_type": "code",
   "execution_count": 22,
   "metadata": {},
   "outputs": [],
   "source": [
    "money1 = Money()\n",
    "happy1 = Happy()"
   ]
  },
  {
   "cell_type": "code",
   "execution_count": 23,
   "metadata": {},
   "outputs": [
    {
     "data": {
      "text/plain": [
       "권순우 (money: 0만큼 벌었다!, happy: 0만큼 증가했다!)"
      ]
     },
     "execution_count": 23,
     "metadata": {},
     "output_type": "execute_result"
    }
   ],
   "source": [
    "me"
   ]
  },
  {
   "cell_type": "code",
   "execution_count": 55,
   "metadata": {},
   "outputs": [],
   "source": [
    "me.earn(money1)\n",
    "me.earn(happy1)"
   ]
  },
  {
   "cell_type": "code",
   "execution_count": 65,
   "metadata": {},
   "outputs": [
    {
     "data": {
      "text/plain": [
       "권순우 (money: 100만큼 벌었다!, happy: 90만큼 증가했다!)"
      ]
     },
     "execution_count": 65,
     "metadata": {},
     "output_type": "execute_result"
    }
   ],
   "source": [
    "me"
   ]
  },
  {
   "cell_type": "code",
   "execution_count": null,
   "metadata": {},
   "outputs": [],
   "source": []
  },
  {
   "cell_type": "code",
   "execution_count": 10,
   "metadata": {},
   "outputs": [],
   "source": [
    "# 외부에서 조작하면 문제가 생길 수 있는 속성을 private하게 지정되도록 이름을 바꾸고,\n",
    "# property를 만들어 본다. \n",
    "# setter가 필요없는 속성은 읽기전용으로 남겨두며, \n",
    "# 변경해야 하는 속성은 setter를 구현하고 제한조건을 만든다\n",
    "# ex) 음식을 먹고 포만감을 늘리는 메서드 -> 포만감이 100이상이면 먹지 않도록"
   ]
  },
  {
   "cell_type": "code",
   "execution_count": null,
   "metadata": {},
   "outputs": [],
   "source": []
  },
  {
   "cell_type": "code",
   "execution_count": null,
   "metadata": {},
   "outputs": [],
   "source": []
  },
  {
   "cell_type": "code",
   "execution_count": null,
   "metadata": {},
   "outputs": [],
   "source": [
    "def study_python(self, minus_mental=10):\n",
    "#     if self.mental > 0:\n",
    "#         self.metntal -= x\n",
    "#         if self.mental < 0:\n",
    "#             self.mental = 0\n",
    "    \n",
    "    if self.mental == 0:\n",
    "        print('더 이상 감소할 정신력이 없습니다.')\n",
    "    print(f'{self.name}님의 정신력이 {x}만큼 감소하였습니다.')"
   ]
  },
  {
   "cell_type": "code",
   "execution_count": null,
   "metadata": {},
   "outputs": [],
   "source": []
  },
  {
   "cell_type": "code",
   "execution_count": null,
   "metadata": {},
   "outputs": [],
   "source": []
  },
  {
   "cell_type": "code",
   "execution_count": null,
   "metadata": {},
   "outputs": [],
   "source": []
  },
  {
   "cell_type": "code",
   "execution_count": null,
   "metadata": {},
   "outputs": [],
   "source": []
  },
  {
   "cell_type": "code",
   "execution_count": null,
   "metadata": {},
   "outputs": [],
   "source": []
  },
  {
   "cell_type": "code",
   "execution_count": null,
   "metadata": {},
   "outputs": [],
   "source": []
  },
  {
   "cell_type": "code",
   "execution_count": null,
   "metadata": {},
   "outputs": [],
   "source": []
  },
  {
   "cell_type": "code",
   "execution_count": null,
   "metadata": {},
   "outputs": [],
   "source": []
  },
  {
   "cell_type": "code",
   "execution_count": null,
   "metadata": {},
   "outputs": [],
   "source": []
  }
 ],
 "metadata": {
  "kernelspec": {
   "display_name": "Python 3",
   "language": "python",
   "name": "python3"
  },
  "language_info": {
   "codemirror_mode": {
    "name": "ipython",
    "version": 3
   },
   "file_extension": ".py",
   "mimetype": "text/x-python",
   "name": "python",
   "nbconvert_exporter": "python",
   "pygments_lexer": "ipython3",
   "version": "3.6.5"
  }
 },
 "nbformat": 4,
 "nbformat_minor": 2
}
