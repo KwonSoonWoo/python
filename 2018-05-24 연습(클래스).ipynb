{
 "cells": [
  {
   "cell_type": "code",
   "execution_count": 1,
   "metadata": {},
   "outputs": [],
   "source": [
    "class Shop:\n",
    "    def __init__(self, name, shop_type, address):\n",
    "        self.name = name\n",
    "        self.__shop_type = shop_type\n",
    "        self.address = address\n",
    "        \n",
    "    def show_info(self):\n",
    "        print(\n",
    "            f'상점정보 ({self.name})\\n'\n",
    "            f'유형: {self.__shop_type}\\n'\n",
    "            f'주소: {self.address}'\n",
    "             )\n",
    "        \n",
    "    def change_type(self, new_shop_type):\n",
    "        self.__shop_type = new_shop_type\n",
    "        \n",
    "    # getter방식    \n",
    "    def get_shop_type(self):\n",
    "        return self.__shop_type\n",
    "    \n",
    "    # setter방식\n",
    "    def set_shop_type(self, new_shop_type):\n",
    "        shop_type_list = ['레스토랑', '패스트푸드']\n",
    "        if new_shop_type in shop_type_list:\n",
    "            self.__shop_type = new_shop_type\n",
    "        else:\n",
    "            print(f'입력하신 유형 ({new_shop_type})은/는 사용할 수 없습니다')\n",
    "            \n",
    "    @property\n",
    "    def shop_type(self):\n",
    "        return self.__shop_type\n",
    "    \n",
    "    @shop_type.setter\n",
    "    def shop_type(self, new_shop_type):\n",
    "        self.__shop_type = new_shop_type\n",
    "        print(f'새 상점 유형 {self.__shop_type}을 적용하셨습니다!')"
   ]
  },
  {
   "cell_type": "code",
   "execution_count": 2,
   "metadata": {},
   "outputs": [],
   "source": [
    "lotteria = Shop('롯데리아', '패스트푸드', '서울시 강남구')"
   ]
  },
  {
   "cell_type": "code",
   "execution_count": 3,
   "metadata": {},
   "outputs": [],
   "source": [
    "#Shop클래스 생성자 호출 시 키워드 인자를 사용해보기"
   ]
  },
  {
   "cell_type": "code",
   "execution_count": 4,
   "metadata": {},
   "outputs": [],
   "source": [
    "xeno = Shop(name='제노', shop_type='패스트푸드', address='신사역')"
   ]
  },
  {
   "cell_type": "code",
   "execution_count": 5,
   "metadata": {},
   "outputs": [
    {
     "name": "stdout",
     "output_type": "stream",
     "text": [
      "상점정보 (롯데리아)\n",
      "유형: 패스트푸드\n",
      "주소: 서울시 강남구\n",
      "상점정보 (제노)\n",
      "유형: 패스트푸드\n",
      "주소: 신사역\n"
     ]
    }
   ],
   "source": [
    "lotteria.show_info()\n",
    "xeno.show_info()"
   ]
  },
  {
   "cell_type": "code",
   "execution_count": 6,
   "metadata": {},
   "outputs": [
    {
     "name": "stdout",
     "output_type": "stream",
     "text": [
      "상점정보 (롯데리아)\n",
      "유형: 레스토랑\n",
      "주소: 서울시 강남구\n"
     ]
    }
   ],
   "source": [
    "lotteria.change_type('레스토랑')\n",
    "lotteria.show_info()"
   ]
  },
  {
   "cell_type": "code",
   "execution_count": 7,
   "metadata": {},
   "outputs": [
    {
     "name": "stdout",
     "output_type": "stream",
     "text": [
      "새 상점 유형 오락실을 적용하셨습니다!\n",
      "상점정보 (롯데리아)\n",
      "유형: 오락실\n",
      "주소: 서울시 강남구\n"
     ]
    }
   ],
   "source": [
    "lotteria.shop_type = '오락실'\n",
    "lotteria.show_info()"
   ]
  },
  {
   "cell_type": "code",
   "execution_count": 8,
   "metadata": {},
   "outputs": [],
   "source": [
    "subway = Shop('서브웨이', '음식점', '성수역')"
   ]
  },
  {
   "cell_type": "code",
   "execution_count": 9,
   "metadata": {},
   "outputs": [
    {
     "name": "stdout",
     "output_type": "stream",
     "text": [
      "상점정보 (서브웨이)\n",
      "유형: 음식점\n",
      "주소: 성수역\n"
     ]
    }
   ],
   "source": [
    "subway.show_info()"
   ]
  },
  {
   "cell_type": "code",
   "execution_count": 10,
   "metadata": {},
   "outputs": [
    {
     "name": "stdout",
     "output_type": "stream",
     "text": [
      "상점정보 (서브웨이)\n",
      "유형: 패스트푸드\n",
      "주소: 성수역\n"
     ]
    }
   ],
   "source": [
    "subway.change_type('패스트푸드')\n",
    "subway.show_info()"
   ]
  },
  {
   "cell_type": "code",
   "execution_count": 11,
   "metadata": {},
   "outputs": [
    {
     "name": "stdout",
     "output_type": "stream",
     "text": [
      "새 상점 유형 Pc방을 적용하셨습니다!\n",
      "상점정보 (서브웨이)\n",
      "유형: Pc방\n",
      "주소: 성수역\n"
     ]
    }
   ],
   "source": [
    "subway.shop_type = 'Pc방'\n",
    "subway.show_info()"
   ]
  },
  {
   "cell_type": "code",
   "execution_count": 12,
   "metadata": {},
   "outputs": [
    {
     "data": {
      "text/plain": [
       "'Pc방'"
      ]
     },
     "execution_count": 12,
     "metadata": {},
     "output_type": "execute_result"
    }
   ],
   "source": [
    "subway.shop_type"
   ]
  },
  {
   "cell_type": "code",
   "execution_count": 13,
   "metadata": {},
   "outputs": [
    {
     "data": {
      "text/plain": [
       "['_Shop__shop_type',\n",
       " '__class__',\n",
       " '__delattr__',\n",
       " '__dict__',\n",
       " '__dir__',\n",
       " '__doc__',\n",
       " '__eq__',\n",
       " '__format__',\n",
       " '__ge__',\n",
       " '__getattribute__',\n",
       " '__gt__',\n",
       " '__hash__',\n",
       " '__init__',\n",
       " '__init_subclass__',\n",
       " '__le__',\n",
       " '__lt__',\n",
       " '__module__',\n",
       " '__ne__',\n",
       " '__new__',\n",
       " '__reduce__',\n",
       " '__reduce_ex__',\n",
       " '__repr__',\n",
       " '__setattr__',\n",
       " '__sizeof__',\n",
       " '__str__',\n",
       " '__subclasshook__',\n",
       " '__weakref__',\n",
       " 'address',\n",
       " 'change_type',\n",
       " 'get_shop_type',\n",
       " 'name',\n",
       " 'set_shop_type',\n",
       " 'shop_type',\n",
       " 'show_info']"
      ]
     },
     "execution_count": 13,
     "metadata": {},
     "output_type": "execute_result"
    }
   ],
   "source": [
    "dir(subway)"
   ]
  },
  {
   "cell_type": "code",
   "execution_count": 14,
   "metadata": {},
   "outputs": [
    {
     "name": "stdout",
     "output_type": "stream",
     "text": [
      "상점정보 (서브웨이)\n",
      "유형: 오락실\n",
      "주소: 성수역\n"
     ]
    }
   ],
   "source": [
    "subway._Shop__shop_type = '오락실'\n",
    "subway.show_info()"
   ]
  },
  {
   "cell_type": "code",
   "execution_count": 15,
   "metadata": {},
   "outputs": [
    {
     "data": {
      "text/plain": [
       "'오락실'"
      ]
     },
     "execution_count": 15,
     "metadata": {},
     "output_type": "execute_result"
    }
   ],
   "source": [
    "subway.get_shop_type()"
   ]
  },
  {
   "cell_type": "code",
   "execution_count": 16,
   "metadata": {},
   "outputs": [
    {
     "name": "stdout",
     "output_type": "stream",
     "text": [
      "입력하신 유형 (오락실)은/는 사용할 수 없습니다\n"
     ]
    },
    {
     "data": {
      "text/plain": [
       "'오락실'"
      ]
     },
     "execution_count": 16,
     "metadata": {},
     "output_type": "execute_result"
    }
   ],
   "source": [
    "subway.set_shop_type('오락실')\n",
    "subway.get_shop_type()"
   ]
  },
  {
   "cell_type": "code",
   "execution_count": 22,
   "metadata": {},
   "outputs": [
    {
     "data": {
      "text/plain": [
       "'오락실'"
      ]
     },
     "execution_count": 22,
     "metadata": {},
     "output_type": "execute_result"
    }
   ],
   "source": [
    "subway.shop_type"
   ]
  },
  {
   "cell_type": "code",
   "execution_count": 23,
   "metadata": {},
   "outputs": [
    {
     "name": "stdout",
     "output_type": "stream",
     "text": [
      "새 상점 유형 패스트푸드을 적용하셨습니다!\n"
     ]
    }
   ],
   "source": [
    "subway.shop_type = '패스트푸드'"
   ]
  },
  {
   "cell_type": "code",
   "execution_count": 24,
   "metadata": {},
   "outputs": [
    {
     "data": {
      "text/plain": [
       "'패스트푸드'"
      ]
     },
     "execution_count": 24,
     "metadata": {},
     "output_type": "execute_result"
    }
   ],
   "source": [
    "subway.shop_type"
   ]
  },
  {
   "cell_type": "code",
   "execution_count": null,
   "metadata": {},
   "outputs": [],
   "source": []
  },
  {
   "cell_type": "code",
   "execution_count": null,
   "metadata": {},
   "outputs": [],
   "source": []
  },
  {
   "cell_type": "code",
   "execution_count": null,
   "metadata": {},
   "outputs": [],
   "source": []
  },
  {
   "cell_type": "code",
   "execution_count": null,
   "metadata": {},
   "outputs": [],
   "source": []
  },
  {
   "cell_type": "code",
   "execution_count": 17,
   "metadata": {},
   "outputs": [],
   "source": [
    "class User:\n",
    "    def __init__(self, name):\n",
    "        self.name = name\n",
    "        self.money = 0\n",
    "        \n",
    "    def add_money(self, amount):\n",
    "        self.money += amount\n",
    "        print(f'소지금이 {amount}만큼 증가하였다!')\n",
    "        \n",
    "    def sell_item(self):\n",
    "        self.add_money(100)\n",
    "        \n",
    "    def kill_monster(self):\n",
    "        self.add_money(50)"
   ]
  },
  {
   "cell_type": "code",
   "execution_count": 18,
   "metadata": {},
   "outputs": [],
   "source": [
    "me = User('권순우')"
   ]
  },
  {
   "cell_type": "code",
   "execution_count": 19,
   "metadata": {},
   "outputs": [
    {
     "name": "stdout",
     "output_type": "stream",
     "text": [
      "소지금이 100만큼 증가하였다!\n"
     ]
    },
    {
     "data": {
      "text/plain": [
       "100"
      ]
     },
     "execution_count": 19,
     "metadata": {},
     "output_type": "execute_result"
    }
   ],
   "source": [
    "me.sell_item()\n",
    "me.money"
   ]
  },
  {
   "cell_type": "code",
   "execution_count": 20,
   "metadata": {},
   "outputs": [
    {
     "name": "stdout",
     "output_type": "stream",
     "text": [
      "소지금이 50만큼 증가하였다!\n"
     ]
    },
    {
     "data": {
      "text/plain": [
       "150"
      ]
     },
     "execution_count": 20,
     "metadata": {},
     "output_type": "execute_result"
    }
   ],
   "source": [
    "me.kill_monster()\n",
    "me.money"
   ]
  },
  {
   "cell_type": "code",
   "execution_count": 21,
   "metadata": {},
   "outputs": [
    {
     "name": "stdout",
     "output_type": "stream",
     "text": [
      "소지금이 10000000만큼 증가하였다!\n"
     ]
    }
   ],
   "source": [
    "me.add_money(10000000)"
   ]
  },
  {
   "cell_type": "code",
   "execution_count": null,
   "metadata": {},
   "outputs": [],
   "source": []
  },
  {
   "cell_type": "markdown",
   "metadata": {},
   "source": [
    "# 상속"
   ]
  },
  {
   "cell_type": "code",
   "execution_count": null,
   "metadata": {},
   "outputs": [],
   "source": [
    "class Shop:\n",
    "    def __init__(self, name, shop_type, address):\n",
    "        self.name = name\n",
    "        self.__shop_type = shop_type\n",
    "        self.address = address\n",
    "        \n",
    "    def show_info(self):\n",
    "        print(\n",
    "            f'상점정보 ({self.name})\\n'\n",
    "            f'유형: {self.__shop_type}\\n'\n",
    "            f'주소: {self.address}'\n",
    "            )\n",
    "            \n",
    "    @property\n",
    "    def shop_type(self):\n",
    "        return self.__shop_type\n",
    "    \n",
    "    @shop_type.setter\n",
    "    def shop_type(self, new_shop_type):\n",
    "        self.__shop_type = new_shop_type\n",
    "        print(f'새 상점 유형 {self.__shop_type}을 적용하셨습니다!')"
   ]
  },
  {
   "cell_type": "code",
   "execution_count": 26,
   "metadata": {},
   "outputs": [],
   "source": [
    "class Restaurant(Shop):\n",
    "    def show_info(self):\n",
    "        print(\n",
    "            f'식당정보 ({self.name})\\n'\n",
    "            f'유형: {self.shop_type}\\n'\n",
    "            f'주소: {self.address}'\n",
    "        )"
   ]
  },
  {
   "cell_type": "code",
   "execution_count": 28,
   "metadata": {},
   "outputs": [
    {
     "name": "stdout",
     "output_type": "stream",
     "text": [
      "식당정보 (서브웨이)\n",
      "유형: 패스트푸드\n",
      "주소: 성수역\n"
     ]
    }
   ],
   "source": [
    "subway = Restaurant('서브웨이', '패스트푸드', '성수역')\n",
    "subway.show_info()"
   ]
  },
  {
   "cell_type": "code",
   "execution_count": null,
   "metadata": {},
   "outputs": [],
   "source": []
  },
  {
   "cell_type": "code",
   "execution_count": null,
   "metadata": {},
   "outputs": [],
   "source": []
  },
  {
   "cell_type": "code",
   "execution_count": null,
   "metadata": {},
   "outputs": [],
   "source": []
  }
 ],
 "metadata": {
  "kernelspec": {
   "display_name": "Python 3",
   "language": "python",
   "name": "python3"
  },
  "language_info": {
   "codemirror_mode": {
    "name": "ipython",
    "version": 3
   },
   "file_extension": ".py",
   "mimetype": "text/x-python",
   "name": "python",
   "nbconvert_exporter": "python",
   "pygments_lexer": "ipython3",
   "version": "3.6.5"
  }
 },
 "nbformat": 4,
 "nbformat_minor": 2
}
