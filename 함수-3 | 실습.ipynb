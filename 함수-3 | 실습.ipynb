{
 "cells": [
  {
   "cell_type": "markdown",
   "metadata": {},
   "source": [
    "# 1번"
   ]
  },
  {
   "cell_type": "code",
   "execution_count": null,
   "metadata": {},
   "outputs": [],
   "source": [
    "def what_fruit(color):\n",
    "    if color == 'red':\n",
    "        return 'apple'\n",
    "    elif color == 'yellow':\n",
    "        return 'banana'\n",
    "    elif color == 'green':\n",
    "        return 'melon'\n",
    "    else:\n",
    "        return \"I don't know\""
   ]
  },
  {
   "cell_type": "code",
   "execution_count": 9,
   "metadata": {},
   "outputs": [],
   "source": [
    "# dict를 사용하는 법\n",
    "fruit_dict = {\n",
    "    'red': 'apple',\n",
    "    'yellow': 'banana',\n",
    "    'green': 'melon',\n",
    "}\n",
    "# 대괄호를 사용해서 값을 검색\n",
    "# dict['red']\n",
    "\n",
    "# get()함수를 사용해서 값을 검색\n",
    "# dict.get('red')\n",
    "\n",
    "def what_fruit2(color):\n",
    "    return fruit_dict.get(color, \"I don't know\")"
   ]
  },
  {
   "cell_type": "code",
   "execution_count": 10,
   "metadata": {},
   "outputs": [
    {
     "data": {
      "text/plain": [
       "\"I don't know\""
      ]
     },
     "execution_count": 10,
     "metadata": {},
     "output_type": "execute_result"
    }
   ],
   "source": [
    "what_fruit2('white')"
   ]
  },
  {
   "cell_type": "code",
   "execution_count": 4,
   "metadata": {},
   "outputs": [
    {
     "data": {
      "text/plain": [
       "'apple'"
      ]
     },
     "execution_count": 4,
     "metadata": {},
     "output_type": "execute_result"
    }
   ],
   "source": [
    "fruit_dict['red']"
   ]
  },
  {
   "cell_type": "code",
   "execution_count": 6,
   "metadata": {
    "scrolled": true
   },
   "outputs": [
    {
     "name": "stdout",
     "output_type": "stream",
     "text": [
      "I don't know\n"
     ]
    }
   ],
   "source": [
    "result = fruit_dict.get('white', \"I don't know\")\n",
    "print(result)"
   ]
  },
  {
   "cell_type": "markdown",
   "metadata": {},
   "source": [
    "# 2번"
   ]
  },
  {
   "cell_type": "code",
   "execution_count": 11,
   "metadata": {},
   "outputs": [],
   "source": [
    "def what_fruit2(color):\n",
    "    \"\"\"\n",
    "    색상 문자열을 받아 해당하는 과일 문자열을 돌려주는 함수\n",
    "    @color: 색상 문자열\n",
    "    return: 과일 문자열\n",
    "    \"\"\"\n",
    "    return fruit_dict.get(color, \"I don't know\")"
   ]
  },
  {
   "cell_type": "markdown",
   "metadata": {},
   "source": [
    "# 3번"
   ]
  },
  {
   "cell_type": "code",
   "execution_count": null,
   "metadata": {},
   "outputs": [],
   "source": [
    "def square(x):\n",
    "    return x ** 2\n",
    "\n",
    "def multi(x, y):\n",
    "    return x * y\n",
    "\n",
    "# 1. 매개변수 중 1개에 기본값을 지정 (x, y=<Default>)\n",
    "# 2. 위치인자 묶음을 사용 (*args)\n",
    "def square_or_multi_default_parameter(x, y=None):\n",
    "    if y is None:\n",
    "        return x * x\n",
    "    else:\n",
    "        return x * y\n",
    "    \n",
    "# None을 Boolean판단 기준으로 사용\n",
    "# if문에 해당할 경우 함수가 return 되므로 else문 생략\n",
    "def square_or_multi_default_parameter(x, y=None):\n",
    "    if y:\n",
    "        return x * y\n",
    "    return x ** 2\n",
    "    \n",
    "# 조건표현식을 사용해서 한 줄로 처리\n",
    "def square_or_multi_default_parameter(x, y=None):\n",
    "    return x * y if y else x ** 2\n",
    "\n",
    "# 위치인자 묶음을 사용\n",
    "def square_or_multi_positional_args(*args):\n",
    "    args_length = len(args)\n",
    "    if len(args) == 2:\n",
    "        return args[0] * args[1]\n",
    "    return args[0] ** 2\n",
    "\n",
    "# 위치인자 묶음을 튜플 언패킹으로 사용\n",
    "def square_or_multi_positional_args(*args):\n",
    "    if len(args) == 1:\n",
    "        # 튜플 언패킹 시 좌,우변을 모두 'tuple'형태로 만들어야 함\n",
    "        arg1, = args\n",
    "        return arg1 ** 2\n",
    "    elif len(args2) == 2:\n",
    "        arg1, arg2 == args\n",
    "        return arg1 * arg2\n",
    "    \n",
    "def square_or_multi_positional_args(*args):\n",
    "    if len(args) == 1:\n",
    "        # 튜플 언패킹 시 좌,우변을 모두 'tuple'형태로 만들어야 함\n",
    "        arg1, = args\n",
    "    elif len(args2) == 2:\n",
    "        arg1, arg2 = args\n",
    "        \n",
    "    # if문에 따라 달라진 locals() dict에서 \n",
    "    # 'arg2'키가 있\n",
    "    if 'arg2' in locals():\n",
    "        return arg1 * arg2\n",
    "    return arg1 ** 2"
   ]
  },
  {
   "cell_type": "markdown",
   "metadata": {},
   "source": [
    "# 4번"
   ]
  },
  {
   "cell_type": "code",
   "execution_count": 22,
   "metadata": {},
   "outputs": [],
   "source": [
    "def sum_sub(x, y):\n",
    "           return (x+y, abs(x-y))"
   ]
  },
  {
   "cell_type": "code",
   "execution_count": 24,
   "metadata": {},
   "outputs": [
    {
     "data": {
      "text/plain": [
       "(8, 2)"
      ]
     },
     "execution_count": 24,
     "metadata": {},
     "output_type": "execute_result"
    }
   ],
   "source": [
    "sum_sub(5,3)"
   ]
  },
  {
   "cell_type": "code",
   "execution_count": 25,
   "metadata": {},
   "outputs": [
    {
     "data": {
      "text/plain": [
       "(8, 2)"
      ]
     },
     "execution_count": 25,
     "metadata": {},
     "output_type": "execute_result"
    }
   ],
   "source": [
    "sum_sub(3,5)"
   ]
  },
  {
   "cell_type": "code",
   "execution_count": 26,
   "metadata": {},
   "outputs": [],
   "source": [
    "def sum_sub(x, y):\n",
    "    if x > y:\n",
    "        sub = x - y\n",
    "    else:\n",
    "        sub = y - x\n",
    "    return (x + y, sub)"
   ]
  },
  {
   "cell_type": "code",
   "execution_count": null,
   "metadata": {},
   "outputs": [],
   "source": [
    "def sum_sub(x, y):\n",
    "    return (x + y, x - y if x > y else y - x)"
   ]
  },
  {
   "cell_type": "markdown",
   "metadata": {},
   "source": [
    "# 5번"
   ]
  },
  {
   "cell_type": "code",
   "execution_count": 28,
   "metadata": {},
   "outputs": [],
   "source": [
    "def get_args_num(*args):\n",
    "    print(f'위치인자는 총 {len(args)}개가 전달되었습니다')\n",
    "    return len(args)"
   ]
  },
  {
   "cell_type": "code",
   "execution_count": 29,
   "metadata": {},
   "outputs": [
    {
     "name": "stdout",
     "output_type": "stream",
     "text": [
      "위치인자는 총 5개가 전달되었습니다\n"
     ]
    }
   ],
   "source": [
    "result = get_args_num(2,3,4,5,6)"
   ]
  },
  {
   "cell_type": "code",
   "execution_count": 30,
   "metadata": {},
   "outputs": [
    {
     "name": "stdout",
     "output_type": "stream",
     "text": [
      "5\n"
     ]
    }
   ],
   "source": [
    "print(result)"
   ]
  },
  {
   "cell_type": "markdown",
   "metadata": {},
   "source": [
    "# 6번"
   ]
  },
  {
   "cell_type": "code",
   "execution_count": 31,
   "metadata": {},
   "outputs": [
    {
     "data": {
      "text/plain": [
       "['2 * 1 = 2',\n",
       " '2 * 2 = 4',\n",
       " '2 * 3 = 6',\n",
       " '2 * 4 = 8',\n",
       " '2 * 5 = 10',\n",
       " '2 * 6 = 12',\n",
       " '2 * 7 = 14',\n",
       " '2 * 8 = 16',\n",
       " '2 * 9 = 18',\n",
       " '3 * 1 = 3',\n",
       " '3 * 2 = 6',\n",
       " '3 * 3 = 9',\n",
       " '3 * 4 = 12',\n",
       " '3 * 5 = 15',\n",
       " '3 * 6 = 18',\n",
       " '3 * 7 = 21',\n",
       " '3 * 8 = 24',\n",
       " '3 * 9 = 27',\n",
       " '4 * 1 = 4',\n",
       " '4 * 2 = 8',\n",
       " '4 * 3 = 12',\n",
       " '4 * 4 = 16',\n",
       " '4 * 5 = 20',\n",
       " '4 * 6 = 24',\n",
       " '4 * 7 = 28',\n",
       " '4 * 8 = 32',\n",
       " '4 * 9 = 36',\n",
       " '5 * 1 = 5',\n",
       " '5 * 2 = 10',\n",
       " '5 * 3 = 15',\n",
       " '5 * 4 = 20',\n",
       " '5 * 5 = 25',\n",
       " '5 * 6 = 30',\n",
       " '5 * 7 = 35',\n",
       " '5 * 8 = 40',\n",
       " '5 * 9 = 45',\n",
       " '6 * 1 = 6',\n",
       " '6 * 2 = 12',\n",
       " '6 * 3 = 18',\n",
       " '6 * 4 = 24',\n",
       " '6 * 5 = 30',\n",
       " '6 * 6 = 36',\n",
       " '6 * 7 = 42',\n",
       " '6 * 8 = 48',\n",
       " '6 * 9 = 54',\n",
       " '7 * 1 = 7',\n",
       " '7 * 2 = 14',\n",
       " '7 * 3 = 21',\n",
       " '7 * 4 = 28',\n",
       " '7 * 5 = 35',\n",
       " '7 * 6 = 42',\n",
       " '7 * 7 = 49',\n",
       " '7 * 8 = 56',\n",
       " '7 * 9 = 63',\n",
       " '8 * 1 = 8',\n",
       " '8 * 2 = 16',\n",
       " '8 * 3 = 24',\n",
       " '8 * 4 = 32',\n",
       " '8 * 5 = 40',\n",
       " '8 * 6 = 48',\n",
       " '8 * 7 = 56',\n",
       " '8 * 8 = 64',\n",
       " '8 * 9 = 72',\n",
       " '9 * 1 = 9',\n",
       " '9 * 2 = 18',\n",
       " '9 * 3 = 27',\n",
       " '9 * 4 = 36',\n",
       " '9 * 5 = 45',\n",
       " '9 * 6 = 54',\n",
       " '9 * 7 = 63',\n",
       " '9 * 8 = 72',\n",
       " '9 * 9 = 81']"
      ]
     },
     "execution_count": 31,
     "metadata": {},
     "output_type": "execute_result"
    }
   ],
   "source": [
    "[(lambda a, b: f'{a} * {b} = {a * b}')(x, y) for x in range(2, 10) for y in range (1,10)]"
   ]
  },
  {
   "cell_type": "code",
   "execution_count": null,
   "metadata": {},
   "outputs": [],
   "source": []
  },
  {
   "cell_type": "code",
   "execution_count": null,
   "metadata": {},
   "outputs": [],
   "source": []
  },
  {
   "cell_type": "code",
   "execution_count": null,
   "metadata": {},
   "outputs": [],
   "source": []
  },
  {
   "cell_type": "code",
   "execution_count": null,
   "metadata": {},
   "outputs": [],
   "source": []
  },
  {
   "cell_type": "code",
   "execution_count": null,
   "metadata": {},
   "outputs": [],
   "source": []
  }
 ],
 "metadata": {
  "kernelspec": {
   "display_name": "Python 3",
   "language": "python",
   "name": "python3"
  },
  "language_info": {
   "codemirror_mode": {
    "name": "ipython",
    "version": 3
   },
   "file_extension": ".py",
   "mimetype": "text/x-python",
   "name": "python",
   "nbconvert_exporter": "python",
   "pygments_lexer": "ipython3",
   "version": "3.6.5"
  }
 },
 "nbformat": 4,
 "nbformat_minor": 2
}
