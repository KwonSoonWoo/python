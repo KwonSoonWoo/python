{
 "cells": [
  {
   "cell_type": "code",
   "execution_count": 158,
   "metadata": {},
   "outputs": [],
   "source": [
    "class Shop:\n",
    "    def __init__(self, name, shop_type, address):\n",
    "        self.name = name\n",
    "        # _로 시작하는 속성/메서드명은\n",
    "        # protected (외부사용금지 / 상속받은 자식에선 사용가능)\n",
    "        self._shop_type = shop_type\n",
    "        self.address = address\n",
    "    # info 프로퍼티를 정의하고\n",
    "    #  리턴하는 내용은 아래의 show_info가 출력하는 문자열\n",
    "    \n",
    "    @property\n",
    "    def info(self):\n",
    "        return (\n",
    "            f'상점 ({self.name})\\n' \n",
    "            f'유형: {self._shop_type}\\n' \n",
    "            f'주소: {self.address}'    \n",
    "        )\n",
    "#     @info.setter\n",
    "    def show_info(self):\n",
    "        # 자신(인스턴스)의 info프로퍼티 속성을 print\n",
    "        print(self.info)\n",
    "#         print(f'상점 ({self.name})')\n",
    "#         print(f'유형: {self._shop_type}')\n",
    "#         print(f'주소: {self.address}')\n",
    "        \n",
    "    @property\n",
    "    def shop_type(self):\n",
    "        return self._shop_type\n",
    "    \n",
    "    @shop_type.setter\n",
    "    def shop_type(self, new_shop_type):\n",
    "        self._shop_type = new_shop_type\n",
    "        print(f'새 상점 유형 ({new_shop_type}) 적용')"
   ]
  },
  {
   "cell_type": "code",
   "execution_count": 159,
   "metadata": {},
   "outputs": [],
   "source": [
    "class Restaurant(Shop):\n",
    "    def __init__(self, name, shop_type, address, rating):\n",
    "        super().__init__(name, shop_type, address)\n",
    "        self.rating = rating\n",
    "    \n",
    "    @property\n",
    "    def info(self):\n",
    "        ori = super().info\n",
    "        return ori.replace('상점', '식당')\n",
    "    \n",
    "    def show_info(self):\n",
    "        print('Restaurant show_info()')\n",
    "        super().show_info()"
   ]
  },
  {
   "cell_type": "code",
   "execution_count": 160,
   "metadata": {},
   "outputs": [
    {
     "data": {
      "text/plain": [
       "'식당 (서브웨이)\\n유형: 패스트푸드\\n주소: 성수역'"
      ]
     },
     "execution_count": 160,
     "metadata": {},
     "output_type": "execute_result"
    }
   ],
   "source": [
    "subway = Restaurant('서브웨이', '패스트푸드', '성수역', 10)\n",
    "subway.info"
   ]
  },
  {
   "cell_type": "code",
   "execution_count": null,
   "metadata": {},
   "outputs": [],
   "source": []
  },
  {
   "cell_type": "code",
   "execution_count": 85,
   "metadata": {},
   "outputs": [
    {
     "data": {
      "text/plain": [
       "'상점 (서브웨이)\\n 유형: 패스트푸드\\n 주소: 성수역'"
      ]
     },
     "execution_count": 85,
     "metadata": {},
     "output_type": "execute_result"
    }
   ],
   "source": [
    "subway = Shop('서브웨이', '패스트푸드', '성수역')\n",
    "subway.info"
   ]
  },
  {
   "cell_type": "code",
   "execution_count": 86,
   "metadata": {},
   "outputs": [
    {
     "name": "stdout",
     "output_type": "stream",
     "text": [
      "상점 (서브웨이)\n",
      " 유형: 패스트푸드\n",
      " 주소: 성수역\n"
     ]
    }
   ],
   "source": [
    "subway.show_info()"
   ]
  },
  {
   "cell_type": "code",
   "execution_count": null,
   "metadata": {},
   "outputs": [],
   "source": []
  },
  {
   "cell_type": "code",
   "execution_count": null,
   "metadata": {},
   "outputs": [],
   "source": []
  },
  {
   "cell_type": "code",
   "execution_count": null,
   "metadata": {},
   "outputs": [],
   "source": []
  },
  {
   "cell_type": "code",
   "execution_count": 57,
   "metadata": {},
   "outputs": [],
   "source": [
    "class Shop:\n",
    "    def __init__(self, name, shop_type):\n",
    "        self.name = name\n",
    "        self.shop_type = shop_type\n",
    "        \n",
    "    # 메서드를 정의\n",
    "    # 메서드 명은 info\n",
    "    # 리턴하는것은 문자열\n",
    "    @property\n",
    "    def info(self):\n",
    "        return f'{self.shop_type}에 있는 {self.name}'"
   ]
  },
  {
   "cell_type": "code",
   "execution_count": 58,
   "metadata": {},
   "outputs": [
    {
     "name": "stdout",
     "output_type": "stream",
     "text": [
      "성수역에 있는 CU\n",
      "강남역에 있는 GS25\n"
     ]
    }
   ],
   "source": [
    "cu = Shop('CU', '성수역')\n",
    "gs25 = Shop('GS25', '강남역')\n",
    "print(cu.info)\n",
    "print(gs25.info)"
   ]
  },
  {
   "cell_type": "code",
   "execution_count": 77,
   "metadata": {},
   "outputs": [],
   "source": [
    "class Product:\n",
    "    def __init__(self, name, original_price, discount):\n",
    "        self.name = name\n",
    "        self.original_price = original_price\n",
    "        self.discount = discount\n",
    "    \n",
    "    @property    \n",
    "    def get_price(self):\n",
    "        return int(self.original_price * (self.discount / 100))"
   ]
  },
  {
   "cell_type": "code",
   "execution_count": 78,
   "metadata": {},
   "outputs": [],
   "source": [
    "iphone = Product('아이폰x', 1000000, 30)"
   ]
  },
  {
   "cell_type": "code",
   "execution_count": 79,
   "metadata": {},
   "outputs": [
    {
     "data": {
      "text/plain": [
       "300000.0"
      ]
     },
     "execution_count": 79,
     "metadata": {},
     "output_type": "execute_result"
    }
   ],
   "source": [
    "iphone.original_price * (iphone.discount / 100)"
   ]
  },
  {
   "cell_type": "code",
   "execution_count": 81,
   "metadata": {},
   "outputs": [
    {
     "ename": "AttributeError",
     "evalue": "'Product' object has no attribute 'price'",
     "output_type": "error",
     "traceback": [
      "\u001b[0;31m---------------------------------------------------------------------------\u001b[0m",
      "\u001b[0;31mAttributeError\u001b[0m                            Traceback (most recent call last)",
      "\u001b[0;32m<ipython-input-81-0a1bc34f04ad>\u001b[0m in \u001b[0;36m<module>\u001b[0;34m()\u001b[0m\n\u001b[0;32m----> 1\u001b[0;31m \u001b[0miphone\u001b[0m\u001b[0;34m.\u001b[0m\u001b[0mprice\u001b[0m \u001b[0;34m*\u001b[0m \u001b[0;36m100\u001b[0m\u001b[0;34m\u001b[0m\u001b[0m\n\u001b[0m",
      "\u001b[0;31mAttributeError\u001b[0m: 'Product' object has no attribute 'price'"
     ]
    }
   ],
   "source": [
    "iphone.price * 100"
   ]
  },
  {
   "cell_type": "code",
   "execution_count": 97,
   "metadata": {},
   "outputs": [],
   "source": [
    "import random\n",
    "\n",
    "class Pokemon:\n",
    "    def __init__(self, name, type):\n",
    "        self.name = name\n",
    "        self.type = type\n",
    "        \n",
    "    @staticmethod\n",
    "    def electric():\n",
    "        pokemons = ('피카츄', '라이츄', '봄볼')\n",
    "        selected = random.choice(pokemons)\n",
    "        return Pokemon(selected, '전기')"
   ]
  },
  {
   "cell_type": "code",
   "execution_count": 98,
   "metadata": {},
   "outputs": [],
   "source": [
    "random_electric_pokemon = Pokemon.electric()"
   ]
  },
  {
   "cell_type": "code",
   "execution_count": 107,
   "metadata": {},
   "outputs": [
    {
     "name": "stdout",
     "output_type": "stream",
     "text": [
      "라이츄\n"
     ]
    }
   ],
   "source": [
    "print(random_electric_pokemon.name)"
   ]
  },
  {
   "cell_type": "code",
   "execution_count": null,
   "metadata": {},
   "outputs": [],
   "source": []
  },
  {
   "cell_type": "code",
   "execution_count": 94,
   "metadata": {},
   "outputs": [],
   "source": [
    "pikachu = Pokemon('피카츄', '전기')"
   ]
  },
  {
   "cell_type": "code",
   "execution_count": 95,
   "metadata": {},
   "outputs": [
    {
     "data": {
      "text/plain": [
       "'피카츄'"
      ]
     },
     "execution_count": 95,
     "metadata": {},
     "output_type": "execute_result"
    }
   ],
   "source": [
    "pikachu.name"
   ]
  },
  {
   "cell_type": "code",
   "execution_count": 96,
   "metadata": {},
   "outputs": [
    {
     "data": {
      "text/plain": [
       "'전기'"
      ]
     },
     "execution_count": 96,
     "metadata": {},
     "output_type": "execute_result"
    }
   ],
   "source": [
    "pikachu.type"
   ]
  },
  {
   "cell_type": "code",
   "execution_count": 125,
   "metadata": {},
   "outputs": [],
   "source": [
    "class Shop:\n",
    "    description = 'Shop class'\n",
    "    def __init__(self, name):\n",
    "        self.name = name\n",
    "        \n",
    "    @classmethod\n",
    "    def change_description(cls, desc):\n",
    "        cls.description = desc"
   ]
  },
  {
   "cell_type": "code",
   "execution_count": 126,
   "metadata": {},
   "outputs": [],
   "source": [
    "shop1 = Shop('1')\n",
    "shop2 = Shop('2')"
   ]
  },
  {
   "cell_type": "code",
   "execution_count": 128,
   "metadata": {},
   "outputs": [
    {
     "data": {
      "text/plain": [
       "'Shop class'"
      ]
     },
     "execution_count": 128,
     "metadata": {},
     "output_type": "execute_result"
    }
   ],
   "source": [
    "shop1.description"
   ]
  },
  {
   "cell_type": "code",
   "execution_count": 129,
   "metadata": {},
   "outputs": [
    {
     "data": {
      "text/plain": [
       "'Shop class'"
      ]
     },
     "execution_count": 129,
     "metadata": {},
     "output_type": "execute_result"
    }
   ],
   "source": [
    "shop2.description"
   ]
  },
  {
   "cell_type": "code",
   "execution_count": 131,
   "metadata": {},
   "outputs": [],
   "source": [
    "class User:\n",
    "    def __init__(self, name):\n",
    "        self.name = name\n",
    "        self.atk = 0\n",
    "        self.defense = 0\n",
    "        \n",
    "    def equip(self, item):\n",
    "        item.use(self)\n",
    "        \n",
    "    def __repr__(self):\n",
    "        return f'{self.name} (atk: {self.atk}, def: {self.defense})'"
   ]
  },
  {
   "cell_type": "code",
   "execution_count": 134,
   "metadata": {},
   "outputs": [],
   "source": [
    "class Sword:\n",
    "    def use(self, user):\n",
    "        user.atk += 10\n",
    "        \n",
    "class Shield:\n",
    "    def use(self, user):\n",
    "        user.defense += 10"
   ]
  },
  {
   "cell_type": "code",
   "execution_count": 135,
   "metadata": {},
   "outputs": [],
   "source": [
    "lhy = User('이한영')"
   ]
  },
  {
   "cell_type": "code",
   "execution_count": 136,
   "metadata": {},
   "outputs": [],
   "source": [
    "sword1 = Sword()\n",
    "shield1 = Shield()"
   ]
  },
  {
   "cell_type": "code",
   "execution_count": 141,
   "metadata": {},
   "outputs": [],
   "source": [
    "lhy.equip(sword1)"
   ]
  },
  {
   "cell_type": "code",
   "execution_count": 142,
   "metadata": {},
   "outputs": [
    {
     "data": {
      "text/plain": [
       "이한영 (atk: 10, def: 10)"
      ]
     },
     "execution_count": 142,
     "metadata": {},
     "output_type": "execute_result"
    }
   ],
   "source": [
    "lhy"
   ]
  },
  {
   "cell_type": "code",
   "execution_count": 143,
   "metadata": {},
   "outputs": [],
   "source": [
    "lhy.equip(shield1)"
   ]
  },
  {
   "cell_type": "code",
   "execution_count": 144,
   "metadata": {},
   "outputs": [
    {
     "data": {
      "text/plain": [
       "이한영 (atk: 10, def: 20)"
      ]
     },
     "execution_count": 144,
     "metadata": {},
     "output_type": "execute_result"
    }
   ],
   "source": [
    "lhy"
   ]
  },
  {
   "cell_type": "code",
   "execution_count": 153,
   "metadata": {},
   "outputs": [],
   "source": [
    "# 클래스 메서드로 객체를 생성할때\n",
    "class Shop:\n",
    "    def __init__(self, name):\n",
    "        self.name = name\n",
    "    \n",
    "    @classmethod\n",
    "    def make_dummy(cls):\n",
    "        return cls(name='dummy shop')\n",
    "    \n",
    "class Restaurant(Shop):\n",
    "    pass"
   ]
  },
  {
   "cell_type": "code",
   "execution_count": 154,
   "metadata": {},
   "outputs": [],
   "source": [
    "dummy_shop1 = Shop.make_dummy()"
   ]
  },
  {
   "cell_type": "code",
   "execution_count": 155,
   "metadata": {},
   "outputs": [
    {
     "name": "stdout",
     "output_type": "stream",
     "text": [
      "<class '__main__.Shop'>\n"
     ]
    }
   ],
   "source": [
    "print(type(dummy_shop1))"
   ]
  },
  {
   "cell_type": "code",
   "execution_count": 156,
   "metadata": {},
   "outputs": [],
   "source": [
    "dummy_restaurant = Restaurant.make_dummy()"
   ]
  },
  {
   "cell_type": "code",
   "execution_count": 157,
   "metadata": {},
   "outputs": [
    {
     "name": "stdout",
     "output_type": "stream",
     "text": [
      "<class '__main__.Restaurant'>\n"
     ]
    }
   ],
   "source": [
    "print(type(dummy_restaurant))"
   ]
  },
  {
   "cell_type": "code",
   "execution_count": null,
   "metadata": {},
   "outputs": [],
   "source": []
  },
  {
   "cell_type": "code",
   "execution_count": null,
   "metadata": {},
   "outputs": [],
   "source": []
  },
  {
   "cell_type": "code",
   "execution_count": null,
   "metadata": {},
   "outputs": [],
   "source": []
  },
  {
   "cell_type": "code",
   "execution_count": null,
   "metadata": {},
   "outputs": [],
   "source": []
  },
  {
   "cell_type": "code",
   "execution_count": null,
   "metadata": {},
   "outputs": [],
   "source": []
  },
  {
   "cell_type": "code",
   "execution_count": null,
   "metadata": {},
   "outputs": [],
   "source": []
  }
 ],
 "metadata": {
  "kernelspec": {
   "display_name": "Python 3",
   "language": "python",
   "name": "python3"
  },
  "language_info": {
   "codemirror_mode": {
    "name": "ipython",
    "version": 3
   },
   "file_extension": ".py",
   "mimetype": "text/x-python",
   "name": "python",
   "nbconvert_exporter": "python",
   "pygments_lexer": "ipython3",
   "version": "3.6.5"
  }
 },
 "nbformat": 4,
 "nbformat_minor": 2
}
