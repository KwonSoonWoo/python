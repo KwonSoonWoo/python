{
 "cells": [
  {
   "cell_type": "code",
   "execution_count": 1,
   "metadata": {},
   "outputs": [],
   "source": [
    "# 도서 관리 프로그램\n",
    "#     Library, Book, User클래스 구현\n",
    "#         프로그램 시작시 도서 5권 정도를 가진 상태로 시작\n",
    "\n",
    "#     Library\n",
    "#         attrs\n",
    "#             name: 도서관명\n",
    "#             book_list: 도서 목록 (Book인스턴스의 목록)\n",
    "#         methods\n",
    "#             add_book\n",
    "#             remove_book\n",
    "#         property\n",
    "#             info: 가지고 있는 도서 목록을 보기좋은 텍스트로 출력 \n",
    "#                   (빌려간 도서는 출력 안해도 됨)\n",
    "\n",
    "#     Book\n",
    "#         attrs\n",
    "#             title: 제목\n",
    "#             location: 현재 자신이 어떤 Library 또는 User에게 있는지를 출력\n",
    "#         property\n",
    "#             is_borrowed: 대출되었는지 (location이 User인지 Library인지 확인)\n",
    "\n",
    "#     User\n",
    "#         attrs\n",
    "#             name: 이름\n",
    "#             book_list: 가지고 있는 도서 목록\n",
    "#         methods\n",
    "#             borrow_book(library, book_name): library로부터 book을 가져옴\n",
    "#             return_book(library, book_name): library에 book을 다시 건네줌"
   ]
  },
  {
   "cell_type": "code",
   "execution_count": 2,
   "metadata": {},
   "outputs": [],
   "source": [
    "class Library:\n",
    "    # 도서관 이름\n",
    "    def __init__(self, name):\n",
    "        self.name = name\n",
    "        self.book_list = []\n",
    "    \n",
    "    # 책이 추가되는 경우\n",
    "    def add_book(self, book):\n",
    "        if book.title not in self.book_list:\n",
    "            self.book_list.append(book.title)\n",
    "        print ('{}에 {}책이 추가되었습니다'.format(\n",
    "            self.name,\n",
    "            book.title\n",
    "        )\n",
    "              )\n",
    "    \n",
    "    # 책이 제거되는 경우\n",
    "    def remove_book(self, book):\n",
    "        if book.title in self.book_list:\n",
    "            self.book_list.remove(book.title)\n",
    "        print ('{}에 {}책이 제거되었습니다'.format(\n",
    "            self.name,\n",
    "            book.title\n",
    "        )\n",
    "              )\n",
    "\n",
    "    # 도서관에 어떠한 책들이 있습니다.\n",
    "    # 이부분은 잘 몰라서 다른 분들꺼 참조\n",
    "    @property\n",
    "    def info(self):\n",
    "        if len(self.book_list) > 0:\n",
    "            for index, book in enumerate(self.book_list):\n",
    "                print(f'{self.name}에 {index+1}. {book}이 있습니다')\n",
    "    \n",
    "    \n",
    "       \n",
    "class Book:\n",
    "    # 책이 있는 곳은 도서관이니 location을 library로 지정.\n",
    "    def __init__(self, title):\n",
    "        self.title = title\n",
    "        self.location = 'library'\n",
    "    \n",
    "    def show_info(self):\n",
    "        print(f'책 이름 : {self.title}')\n",
    "    \n",
    "    @property\n",
    "    def is_borrowed(self):\n",
    "        if self.location == 'library':\n",
    "            return f'{self.title}은/는 도서관에 있습니다'\n",
    "        else:\n",
    "            return f'{self.title}은/는 대여중입니다'\n",
    "        \n",
    "\n",
    "        \n",
    "class User:\n",
    "    # 가지고 있는 도서 목록              \n",
    "    def __init__(self, name):\n",
    "        self.name = name\n",
    "        self.book_list = []\n",
    "    \n",
    "    # library로부터 book을 가져옴              \n",
    "    def borrow_book(self, library, book):\n",
    "        if book.title in library.book_list:\n",
    "            library.book_list.remove(book.title)\n",
    "            self.book_list.append(book.title)\n",
    "            book.location = self.name\n",
    "            print(f'{book.title}을/를 대여하였습니다')\n",
    "        \n",
    "    # library에 book을 다시 건네줌\n",
    "    def return_book(self, library, book):\n",
    "        if book.title in self.book_list:\n",
    "            self.book_list.remove(book.title)\n",
    "            library.book_list.append(book.title)\n",
    "            book.location = library.name\n",
    "            print(f'{book.title}을/를 반납하셨습니다')"
   ]
  },
  {
   "cell_type": "code",
   "execution_count": 3,
   "metadata": {},
   "outputs": [],
   "source": [
    "jua_library = Library('주아도서관')"
   ]
  },
  {
   "cell_type": "code",
   "execution_count": 4,
   "metadata": {},
   "outputs": [],
   "source": [
    "book1 = Book('부동산 실무세법')\n",
    "book2 = Book('부동산 투자 이렇게 쉬웠어?')\n",
    "book3 = Book('서울 부동산의 미래')\n",
    "book4 = Book('내 아이가 좋아하는것')\n",
    "book5 = Book('소나무한의원')"
   ]
  },
  {
   "cell_type": "code",
   "execution_count": 5,
   "metadata": {},
   "outputs": [
    {
     "name": "stdout",
     "output_type": "stream",
     "text": [
      "책 이름 : 부동산 실무세법\n",
      "책 이름 : 부동산 투자 이렇게 쉬웠어?\n",
      "책 이름 : 서울 부동산의 미래\n",
      "책 이름 : 내 아이가 좋아하는것\n",
      "책 이름 : 소나무한의원\n"
     ]
    }
   ],
   "source": [
    "book1.show_info()\n",
    "book2.show_info()\n",
    "book3.show_info()\n",
    "book4.show_info()\n",
    "book5.show_info()"
   ]
  },
  {
   "cell_type": "code",
   "execution_count": 6,
   "metadata": {},
   "outputs": [
    {
     "name": "stdout",
     "output_type": "stream",
     "text": [
      "주아도서관에 부동산 실무세법책이 추가되었습니다\n",
      "주아도서관에 부동산 투자 이렇게 쉬웠어?책이 추가되었습니다\n",
      "주아도서관에 서울 부동산의 미래책이 추가되었습니다\n",
      "주아도서관에 내 아이가 좋아하는것책이 추가되었습니다\n",
      "주아도서관에 소나무한의원책이 추가되었습니다\n"
     ]
    }
   ],
   "source": [
    "jua_library.add_book(book1)\n",
    "jua_library.add_book(book2)\n",
    "jua_library.add_book(book3)\n",
    "jua_library.add_book(book4)\n",
    "jua_library.add_book(book5)"
   ]
  },
  {
   "cell_type": "code",
   "execution_count": 7,
   "metadata": {},
   "outputs": [
    {
     "name": "stdout",
     "output_type": "stream",
     "text": [
      "주아도서관에 1. 부동산 실무세법이 있습니다\n",
      "주아도서관에 2. 부동산 투자 이렇게 쉬웠어?이 있습니다\n",
      "주아도서관에 3. 서울 부동산의 미래이 있습니다\n",
      "주아도서관에 4. 내 아이가 좋아하는것이 있습니다\n",
      "주아도서관에 5. 소나무한의원이 있습니다\n"
     ]
    }
   ],
   "source": [
    "jua_library.info"
   ]
  },
  {
   "cell_type": "code",
   "execution_count": 8,
   "metadata": {},
   "outputs": [
    {
     "name": "stdout",
     "output_type": "stream",
     "text": [
      "주아도서관에 소나무한의원책이 제거되었습니다\n"
     ]
    }
   ],
   "source": [
    "jua_library.remove_book(book5)"
   ]
  },
  {
   "cell_type": "code",
   "execution_count": 9,
   "metadata": {},
   "outputs": [
    {
     "name": "stdout",
     "output_type": "stream",
     "text": [
      "주아도서관에 1. 부동산 실무세법이 있습니다\n",
      "주아도서관에 2. 부동산 투자 이렇게 쉬웠어?이 있습니다\n",
      "주아도서관에 3. 서울 부동산의 미래이 있습니다\n",
      "주아도서관에 4. 내 아이가 좋아하는것이 있습니다\n"
     ]
    }
   ],
   "source": [
    "jua_library.info"
   ]
  },
  {
   "cell_type": "code",
   "execution_count": 10,
   "metadata": {},
   "outputs": [
    {
     "name": "stdout",
     "output_type": "stream",
     "text": [
      "주아도서관에 소나무한의원책이 추가되었습니다\n"
     ]
    }
   ],
   "source": [
    "jua_library.add_book(book5)"
   ]
  },
  {
   "cell_type": "code",
   "execution_count": 11,
   "metadata": {},
   "outputs": [
    {
     "name": "stdout",
     "output_type": "stream",
     "text": [
      "주아도서관에 1. 부동산 실무세법이 있습니다\n",
      "주아도서관에 2. 부동산 투자 이렇게 쉬웠어?이 있습니다\n",
      "주아도서관에 3. 서울 부동산의 미래이 있습니다\n",
      "주아도서관에 4. 내 아이가 좋아하는것이 있습니다\n",
      "주아도서관에 5. 소나무한의원이 있습니다\n"
     ]
    }
   ],
   "source": [
    "jua_library.info"
   ]
  },
  {
   "cell_type": "code",
   "execution_count": 12,
   "metadata": {},
   "outputs": [],
   "source": [
    "k = User('soonwoo')"
   ]
  },
  {
   "cell_type": "code",
   "execution_count": 14,
   "metadata": {},
   "outputs": [
    {
     "name": "stdout",
     "output_type": "stream",
     "text": [
      "서울 부동산의 미래을/를 대여하였습니다\n"
     ]
    }
   ],
   "source": [
    "k.borrow_book(jua_library, book3)"
   ]
  },
  {
   "cell_type": "code",
   "execution_count": 18,
   "metadata": {},
   "outputs": [
    {
     "ename": "TypeError",
     "evalue": "'property' object is not callable",
     "output_type": "error",
     "traceback": [
      "\u001b[0;31m---------------------------------------------------------------------------\u001b[0m",
      "\u001b[0;31mTypeError\u001b[0m                                 Traceback (most recent call last)",
      "\u001b[0;32m<ipython-input-18-f83e2c8ea456>\u001b[0m in \u001b[0;36m<module>\u001b[0;34m()\u001b[0m\n\u001b[0;32m----> 1\u001b[0;31m \u001b[0mBook\u001b[0m\u001b[0;34m.\u001b[0m\u001b[0mis_borrowed\u001b[0m\u001b[0;34m(\u001b[0m\u001b[0mbook3\u001b[0m\u001b[0;34m)\u001b[0m\u001b[0;34m\u001b[0m\u001b[0m\n\u001b[0m",
      "\u001b[0;31mTypeError\u001b[0m: 'property' object is not callable"
     ]
    }
   ],
   "source": [
    "Book.is_borrowed(book3)"
   ]
  },
  {
   "cell_type": "code",
   "execution_count": null,
   "metadata": {},
   "outputs": [],
   "source": []
  },
  {
   "cell_type": "code",
   "execution_count": null,
   "metadata": {},
   "outputs": [],
   "source": []
  },
  {
   "cell_type": "code",
   "execution_count": null,
   "metadata": {},
   "outputs": [],
   "source": []
  },
  {
   "cell_type": "code",
   "execution_count": null,
   "metadata": {},
   "outputs": [],
   "source": []
  },
  {
   "cell_type": "code",
   "execution_count": null,
   "metadata": {},
   "outputs": [],
   "source": []
  },
  {
   "cell_type": "code",
   "execution_count": null,
   "metadata": {},
   "outputs": [],
   "source": []
  },
  {
   "cell_type": "code",
   "execution_count": null,
   "metadata": {},
   "outputs": [],
   "source": []
  },
  {
   "cell_type": "code",
   "execution_count": null,
   "metadata": {},
   "outputs": [],
   "source": []
  },
  {
   "cell_type": "code",
   "execution_count": null,
   "metadata": {},
   "outputs": [],
   "source": []
  },
  {
   "cell_type": "code",
   "execution_count": null,
   "metadata": {},
   "outputs": [],
   "source": []
  },
  {
   "cell_type": "code",
   "execution_count": null,
   "metadata": {},
   "outputs": [],
   "source": []
  },
  {
   "cell_type": "code",
   "execution_count": null,
   "metadata": {},
   "outputs": [],
   "source": []
  },
  {
   "cell_type": "code",
   "execution_count": null,
   "metadata": {},
   "outputs": [],
   "source": []
  },
  {
   "cell_type": "code",
   "execution_count": null,
   "metadata": {},
   "outputs": [],
   "source": []
  },
  {
   "cell_type": "code",
   "execution_count": null,
   "metadata": {},
   "outputs": [],
   "source": []
  },
  {
   "cell_type": "code",
   "execution_count": null,
   "metadata": {},
   "outputs": [],
   "source": []
  },
  {
   "cell_type": "code",
   "execution_count": null,
   "metadata": {},
   "outputs": [],
   "source": []
  }
 ],
 "metadata": {
  "kernelspec": {
   "display_name": "Python 3",
   "language": "python",
   "name": "python3"
  },
  "language_info": {
   "codemirror_mode": {
    "name": "ipython",
    "version": 3
   },
   "file_extension": ".py",
   "mimetype": "text/x-python",
   "name": "python",
   "nbconvert_exporter": "python",
   "pygments_lexer": "ipython3",
   "version": "3.6.5"
  }
 },
 "nbformat": 4,
 "nbformat_minor": 2
}
