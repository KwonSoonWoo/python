{
 "cells": [
  {
   "cell_type": "code",
   "execution_count": 5,
   "metadata": {},
   "outputs": [
    {
     "name": "stdout",
     "output_type": "stream",
     "text": [
      "list index를 참조하려 했는데 오류가 났음\n",
      "try-except구문 끝\n"
     ]
    }
   ],
   "source": [
    "sample_list = list('apple')\n",
    "try:\n",
    "    print(sample_list[5])\n",
    "    print('list index 출력 완료')\n",
    "except:\n",
    "    print('list index를 참조하려 했는데 오류가 났음')\n",
    "    \n",
    "print('try-except구문 끝')"
   ]
  },
  {
   "cell_type": "code",
   "execution_count": 13,
   "metadata": {},
   "outputs": [
    {
     "name": "stdout",
     "output_type": "stream",
     "text": [
      "list index 참조 오류\n",
      "list index out of range\n"
     ]
    }
   ],
   "source": [
    "sample_list = list('apple')\n",
    "sample_dict = {'red': 'apple', 'yellow': 'banana'}\n",
    "# 없는 list인덱스 참조시\n",
    "#   list index 참조 오류\n",
    "\n",
    "try:\n",
    "    sample_list[5]\n",
    "    sample_dict['green']\n",
    "except IndexError as e:\n",
    "    print('list index 참조 오류')\n",
    "    print(e)\n",
    "except Keyerror:\n",
    "    print('dict key 참조 오류')\n",
    "# 없는 dict key참조시\n",
    "#  dict key참조 오류\n"
   ]
  },
  {
   "cell_type": "code",
   "execution_count": 14,
   "metadata": {},
   "outputs": [
    {
     "name": "stdout",
     "output_type": "stream",
     "text": [
      "예외없이 잘 끝났음\n"
     ]
    }
   ],
   "source": [
    "sample_list = list('apple')\n",
    "sample_dict = {'red': 'apple', 'yellow': 'banana'}\n",
    "# 없는 list인덱스 참조시\n",
    "#   list index 참조 오류\n",
    "\n",
    "try:\n",
    "    sample_list[3]\n",
    "    sample_dict['red']\n",
    "except IndexError as e:\n",
    "    print('list index 참조 오류')\n",
    "    print(e)\n",
    "except Keyerror:\n",
    "    print('dict key 참조 오류')\n",
    "else:\n",
    "    print('예외없이 잘 끝났음')"
   ]
  },
  {
   "cell_type": "code",
   "execution_count": 15,
   "metadata": {},
   "outputs": [
    {
     "name": "stdout",
     "output_type": "stream",
     "text": [
      "list index 참조 오류\n",
      "list index out of range\n",
      "어쨌든 끝났음\n"
     ]
    }
   ],
   "source": [
    "sample_list = list('apple')\n",
    "sample_dict = {'red': 'apple', 'yellow': 'banana'}\n",
    "# 없는 list인덱스 참조시\n",
    "#   list index 참조 오류\n",
    "\n",
    "try:\n",
    "    sample_list[5]\n",
    "    sample_dict['green']\n",
    "except IndexError as e:\n",
    "    print('list index 참조 오류')\n",
    "    print(e)\n",
    "except Keyerror:\n",
    "    print('dict key 참조 오류')\n",
    "else:\n",
    "    print('예외없이 잘 끝났음')\n",
    "finally:\n",
    "    print('어쨌든 끝났음')"
   ]
  },
  {
   "cell_type": "code",
   "execution_count": 16,
   "metadata": {},
   "outputs": [],
   "source": [
    "def square(x):\n",
    "    if not isinstance(x, int):\n",
    "        raise ValueError('숫자가 전달되어야 합니다')\n",
    "    return x ** 2"
   ]
  },
  {
   "cell_type": "code",
   "execution_count": 17,
   "metadata": {},
   "outputs": [
    {
     "ename": "ValueError",
     "evalue": "숫자가 전달되어야 합니다",
     "output_type": "error",
     "traceback": [
      "\u001b[0;31m---------------------------------------------------------------------------\u001b[0m",
      "\u001b[0;31mValueError\u001b[0m                                Traceback (most recent call last)",
      "\u001b[0;32m<ipython-input-17-33fea33c64a4>\u001b[0m in \u001b[0;36m<module>\u001b[0;34m()\u001b[0m\n\u001b[0;32m----> 1\u001b[0;31m \u001b[0msquare\u001b[0m\u001b[0;34m(\u001b[0m\u001b[0;34m'ABc'\u001b[0m\u001b[0;34m)\u001b[0m\u001b[0;34m\u001b[0m\u001b[0m\n\u001b[0m",
      "\u001b[0;32m<ipython-input-16-387f571bf48d>\u001b[0m in \u001b[0;36msquare\u001b[0;34m(x)\u001b[0m\n\u001b[1;32m      1\u001b[0m \u001b[0;32mdef\u001b[0m \u001b[0msquare\u001b[0m\u001b[0;34m(\u001b[0m\u001b[0mx\u001b[0m\u001b[0;34m)\u001b[0m\u001b[0;34m:\u001b[0m\u001b[0;34m\u001b[0m\u001b[0m\n\u001b[1;32m      2\u001b[0m     \u001b[0;32mif\u001b[0m \u001b[0;32mnot\u001b[0m \u001b[0misinstance\u001b[0m\u001b[0;34m(\u001b[0m\u001b[0mx\u001b[0m\u001b[0;34m,\u001b[0m \u001b[0mint\u001b[0m\u001b[0;34m)\u001b[0m\u001b[0;34m:\u001b[0m\u001b[0;34m\u001b[0m\u001b[0m\n\u001b[0;32m----> 3\u001b[0;31m         \u001b[0;32mraise\u001b[0m \u001b[0mValueError\u001b[0m\u001b[0;34m(\u001b[0m\u001b[0;34m'숫자가 전달되어야 합니다'\u001b[0m\u001b[0;34m)\u001b[0m\u001b[0;34m\u001b[0m\u001b[0m\n\u001b[0m\u001b[1;32m      4\u001b[0m     \u001b[0;32mreturn\u001b[0m \u001b[0mx\u001b[0m \u001b[0;34m**\u001b[0m \u001b[0;36m2\u001b[0m\u001b[0;34m\u001b[0m\u001b[0m\n",
      "\u001b[0;31mValueError\u001b[0m: 숫자가 전달되어야 합니다"
     ]
    }
   ],
   "source": [
    "square('ABc')"
   ]
  },
  {
   "cell_type": "code",
   "execution_count": null,
   "metadata": {},
   "outputs": [],
   "source": [
    "class ExpectIntException(Exception):\n",
    "    def __init__(self, value):\n",
    "        self.value = value\n",
    "        self.msg = f'숫자가 전달되어야 합니다. (받은 값: {value})'\n",
    "        \n",
    "    def __str__(self):\n",
    "    return self.msg\n",
    "\n",
    "def square(x):\n",
    "    if not isinstance(x int):\n",
    "        raise ExpectIntException(x)\n",
    "    return x ** 2"
   ]
  },
  {
   "cell_type": "code",
   "execution_count": null,
   "metadata": {},
   "outputs": [],
   "source": [
    "while True:\n",
    "    try:\n",
    "        value = input('숫자를 입력해주세요: ')\n",
    "        print(square(int(value)))\n",
    "        break\n",
    "    except ExpectIntparasableException as e:\n",
    "        print(e)\n",
    "    except ValueError as e:\n",
    "        print(e)"
   ]
  },
  {
   "cell_type": "code",
   "execution_count": null,
   "metadata": {},
   "outputs": [],
   "source": []
  },
  {
   "cell_type": "code",
   "execution_count": null,
   "metadata": {},
   "outputs": [],
   "source": []
  }
 ],
 "metadata": {
  "kernelspec": {
   "display_name": "Python 3",
   "language": "python",
   "name": "python3"
  },
  "language_info": {
   "codemirror_mode": {
    "name": "ipython",
    "version": 3
   },
   "file_extension": ".py",
   "mimetype": "text/x-python",
   "name": "python",
   "nbconvert_exporter": "python",
   "pygments_lexer": "ipython3",
   "version": "3.6.5"
  }
 },
 "nbformat": 4,
 "nbformat_minor": 2
}
