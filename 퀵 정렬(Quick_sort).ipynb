{
 "cells": [
  {
   "cell_type": "code",
   "execution_count": 1,
   "metadata": {},
   "outputs": [],
   "source": [
    "def calc_sum(num):\n",
    "    result = 0\n",
    "    for i in range(num + 1):\n",
    "        result += i\n",
    "    return result"
   ]
  },
  {
   "cell_type": "code",
   "execution_count": 2,
   "metadata": {},
   "outputs": [],
   "source": [
    "# 재귀적의 의미를 코드로 풀어본것.\n",
    "\n",
    "def calc_sum(num):\n",
    "    if num == 1:\n",
    "        return num\n",
    "    return num + calc_sum(num-1)"
   ]
  },
  {
   "cell_type": "code",
   "execution_count": 5,
   "metadata": {},
   "outputs": [
    {
     "data": {
      "text/plain": [
       "1"
      ]
     },
     "execution_count": 5,
     "metadata": {},
     "output_type": "execute_result"
    }
   ],
   "source": [
    "calc_sum(1)"
   ]
  },
  {
   "cell_type": "code",
   "execution_count": 7,
   "metadata": {},
   "outputs": [],
   "source": [
    "def fibonacci(index):\n",
    "    if index > 2:\n",
    "        return index\n",
    "    return fibonacci(index -1) + fibonacci(index -2)"
   ]
  },
  {
   "cell_type": "code",
   "execution_count": 8,
   "metadata": {},
   "outputs": [],
   "source": [
    "# 반복문으로 피보나치 수열을 구해보자\n",
    "\n",
    "def fibonacci1(index):\n",
    "    if index < 2:\n",
    "        return index\n",
    "    \n",
    "    value = 1\n",
    "    prev1 = 1\n",
    "    prev2 = 1\n",
    "    \n",
    "    for i in range(index -2):\n",
    "        value = prev1 + prev2\n",
    "        prev2 = prev1\n",
    "        prev1 = value\n",
    "        \n",
    "    return value"
   ]
  },
  {
   "cell_type": "code",
   "execution_count": 9,
   "metadata": {},
   "outputs": [],
   "source": [
    "# 다이나믹 프로그래밍으로\n",
    "# 범위를 지정해줘야 함 - 단점\n",
    "\n",
    "mem = [0] * 101 # index 번째 피보나치 수열 저장소\n",
    "\n",
    "def fibonacci2(index):\n",
    "    if index < 2:\n",
    "        return index\n",
    "    \n",
    "    if mem[index]: # 피보나치 수열을 이미 계산했다면...\n",
    "        return mem[index]\n",
    "    else: # 계산한 피보나치 수열이 아니에요..\n",
    "        mem[index] = fibonacci(index -1) + fibonacci(index -2) # 값 계산해서 리스트에 저장해놓고\n",
    "        return mem[index]\n",
    "    "
   ]
  },
  {
   "cell_type": "code",
   "execution_count": 1,
   "metadata": {},
   "outputs": [],
   "source": [
    "def fibonacci(index):\n",
    "    if index > 2:\n",
    "        return index\n",
    "    return fibonacci(index -1) + fibonacci(index -2)"
   ]
  },
  {
   "cell_type": "code",
   "execution_count": 2,
   "metadata": {},
   "outputs": [],
   "source": [
    "# 반복문으로 피보나치 수열을 구해보자\n",
    "\n",
    "def fibonacci1(index):\n",
    "    if index < 2:\n",
    "        return index\n",
    "    \n",
    "    value = 1\n",
    "    prev1 = 1\n",
    "    prev2 = 1\n",
    "    \n",
    "    for i in range(index -2):\n",
    "        value = prev1 + prev2\n",
    "        prev2 = prev1\n",
    "        prev1 = value\n",
    "        \n",
    "    return value"
   ]
  },
  {
   "cell_type": "code",
   "execution_count": null,
   "metadata": {},
   "outputs": [],
   "source": [
    "# 다이나믹 프로그래밍으로\n",
    "# 범위를 지정해줘야 함 - 단점\n",
    "\n",
    "mem = [0] * 101 # index 번째 피보나치 수열 저장소\n",
    "\n",
    "def fibonacci2(index):\n",
    "    if index < 2:\n",
    "        return index\n",
    "    \n",
    "    if mem[index]: # 피보나치 수열을 이미 계산했다면...\n",
    "        return mem[index]\n",
    "    else:\n",
    "        mem[index] = fibonacci(index -1) + fibonacci(index -2) # 값 계산해서 리스트에 저장해놓고\n",
    "        return mem[index]"
   ]
  },
  {
   "cell_type": "code",
   "execution_count": 4,
   "metadata": {},
   "outputs": [],
   "source": [
    "def fibonacci(index):\n",
    "    if index > 2:\n",
    "        return index\n",
    "    return fibonacci(index -1) + fibonacci(index -2)"
   ]
  },
  {
   "cell_type": "code",
   "execution_count": 5,
   "metadata": {},
   "outputs": [],
   "source": [
    "# 반복문으로 피보나치 수열을 구해보자\n",
    "\n",
    "def fibonacci1(index):\n",
    "    if index < 2:\n",
    "        return index\n",
    "    \n",
    "    value = 1\n",
    "    prev1 = 1\n",
    "    prev2 = 1\n",
    "    \n",
    "    for i in range(index -2):\n",
    "        value = prev1 + prev2\n",
    "        prev1 = prev1\n",
    "        prev2 = value\n",
    "        \n",
    "    return value"
   ]
  },
  {
   "cell_type": "code",
   "execution_count": null,
   "metadata": {},
   "outputs": [],
   "source": [
    "# 다이나믹 프로그래밍으로\n",
    "# 범위를 지정해줘야 함 - 단점\n",
    "\n",
    "mem = [0] * 101 # index 번째 피보나치 수열 저장소\n",
    "\n",
    "def fibonacci2(index):\n",
    "    if index < 2:\n",
    "        return index\n",
    "    \n",
    "    if mem[index]: # 피보나치 수열을 이미 계산했다면...\n",
    "        return mem[index]\n",
    "    else:\n",
    "        mem[index] = fibonacci(index -1) + fibonacci(index -2) # 값 계산해서 리스트에 저장해놓고\n",
    "        return mem[index]"
   ]
  },
  {
   "cell_type": "code",
   "execution_count": 1,
   "metadata": {},
   "outputs": [],
   "source": [
    "def fibonacci(index):\n",
    "    if index > 2:\n",
    "        return index\n",
    "    return fibonacci(index -1) + fibonacci(index -2)"
   ]
  },
  {
   "cell_type": "code",
   "execution_count": 2,
   "metadata": {},
   "outputs": [],
   "source": [
    "# 반복문으로 피보나치 수열을 구해보자\n",
    "\n",
    "def fibonacci1(index):\n",
    "    if index < 2:\n",
    "        return index\n",
    "    \n",
    "    value = 1\n",
    "    prev1 = 1\n",
    "    prev2 = 1\n",
    "    \n",
    "    for i in range(index -2):\n",
    "        value = prev1 + prev2\n",
    "        prev1 = prev1\n",
    "        prev2 = value\n",
    "    return value"
   ]
  },
  {
   "cell_type": "code",
   "execution_count": 3,
   "metadata": {},
   "outputs": [],
   "source": [
    "# 다이나믹 프로그래밍으로\n",
    "# 범위를 지정해줘야 함 - 단점\n",
    "\n",
    "mem = [0] * 101 # index 번째 피보나치 수열 저장소\n",
    "\n",
    "def fibonacci2(index):\n",
    "    if index < 2:\n",
    "        return index\n",
    "    \n",
    "    if mem[index]: # 피보나치 수열을 이미 계산했다면\n",
    "        return mem[index]\n",
    "    else:\n",
    "        mem[index] = fibonacci(index -1) + fibonacci(index -2) # 값 계산 해서 리스트에 저장해놓고\n",
    "        return mem[index]"
   ]
  },
  {
   "cell_type": "code",
   "execution_count": 4,
   "metadata": {},
   "outputs": [],
   "source": [
    "def fibonacci(index):\n",
    "    if index > 2:\n",
    "        return index\n",
    "    return fibonacci(index -1) + fibonacci(index -2)"
   ]
  },
  {
   "cell_type": "code",
   "execution_count": 5,
   "metadata": {},
   "outputs": [],
   "source": [
    "# 반복문으로 피보나치 수열을 구해보자\n",
    "\n",
    "def fibonacci1(index):\n",
    "    if index < 2:\n",
    "        return index\n",
    "    \n",
    "    value = 1\n",
    "    prev1 = 1\n",
    "    prev2 = 1\n",
    "    \n",
    "    for i in range(index -2):\n",
    "        value = prev1 + prev2\n",
    "        prev1 = prev1\n",
    "        prev2 = value\n",
    "    return value"
   ]
  },
  {
   "cell_type": "code",
   "execution_count": null,
   "metadata": {},
   "outputs": [],
   "source": [
    "# 다이나믹 프로그래밍으로\n",
    "# 범위를 지정해줘야함 - 단점\n",
    "\n",
    "mem = [0] * 101 # index 번째 피보나치 수열 저장소\n",
    "\n",
    "def fibonacci2(index):\n",
    "    if index < 2:\n",
    "        return index\n",
    "    \n",
    "    if mem[index]: #  이미 피보나치 수열을 계산했다면\n",
    "        return mem[index]\n",
    "    else:\n",
    "        mem[index] = fibonacci(index -1) + fibonacci(index -2) # 값 계산해서 리스트에 저장해놓고\n",
    "        return mem[index]"
   ]
  },
  {
   "cell_type": "code",
   "execution_count": 6,
   "metadata": {},
   "outputs": [],
   "source": [
    "def fibonacci(index):\n",
    "    if index > 2:\n",
    "        return index"
   ]
  },
  {
   "cell_type": "code",
   "execution_count": 7,
   "metadata": {},
   "outputs": [],
   "source": [
    "# 반복문으로 피보나치 수열을 구해보자\n",
    "\n",
    "def fibonacci1(index):\n",
    "    if index < 2:\n",
    "        return index\n",
    "    \n",
    "    value = 1\n",
    "    prev1 = 1\n",
    "    prev2 = 1\n",
    "    \n",
    "    for i in range(index -2):\n",
    "        value = prev1 + prev2\n",
    "        prev1 = prev1\n",
    "        prev2 = value\n",
    "        \n",
    "    return value"
   ]
  },
  {
   "cell_type": "code",
   "execution_count": null,
   "metadata": {},
   "outputs": [],
   "source": [
    "# 다이나믹 프로그래밍으로\n",
    "# 범위를 지정해줘야함 - 단점\n",
    "\n",
    "mem = [0] * 101 # index번째 피보나치 수열 저장소\n",
    "\n",
    "def fibonacci2(index):\n",
    "    if index < 2:\n",
    "        return index\n",
    "    \n",
    "    if mem[index]: # 만약 이미 피보나치 수열을 계산했다면\n",
    "        return mem[index]\n",
    "    \n",
    "    else:\n",
    "        mem[index] = fibonacci(index -1) + fibonacci(index -2) # 값 계산해서 리스트에 저장해놓고\n",
    "        return mem[index]\n",
    "    \n",
    "    "
   ]
  },
  {
   "cell_type": "code",
   "execution_count": null,
   "metadata": {},
   "outputs": [],
   "source": []
  },
  {
   "cell_type": "code",
   "execution_count": null,
   "metadata": {},
   "outputs": [],
   "source": []
  }
 ],
 "metadata": {
  "kernelspec": {
   "display_name": "Python 3",
   "language": "python",
   "name": "python3"
  },
  "language_info": {
   "codemirror_mode": {
    "name": "ipython",
    "version": 3
   },
   "file_extension": ".py",
   "mimetype": "text/x-python",
   "name": "python",
   "nbconvert_exporter": "python",
   "pygments_lexer": "ipython3",
   "version": "3.6.5"
  }
 },
 "nbformat": 4,
 "nbformat_minor": 2
}
