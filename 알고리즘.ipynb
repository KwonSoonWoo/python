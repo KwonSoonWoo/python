{
 "cells": [
  {
   "cell_type": "markdown",
   "metadata": {},
   "source": [
    "# 순차검색"
   ]
  },
  {
   "cell_type": "code",
   "execution_count": 35,
   "metadata": {},
   "outputs": [],
   "source": [
    "def sequential_search(string, key):\n",
    "    index = 0\n",
    "    # 전체 문자열을 순회하며 각 글자를 char에 할당\n",
    "    for char in string:\n",
    "        print(char)\n",
    "        # 순회중인 문자(char)와 찾으려는 문자(key)가 같은 경우\n",
    "        if char == key:\n",
    "            # 메시지를 출력하고 해당 index를 리턴\n",
    "            print('찾는값이 나왔음, index:', index)\n",
    "            return index\n",
    "        \n",
    "        # 매 루프의 끝에서 index값을 1씩 증가\n",
    "        index += 1\n",
    "        \n",
    "    # 전체 문자열을 순회했음에도 char와 key가 같은 경우가 없었다면\n",
    "    # (같다면 return으로 함수가 종료됨)\n",
    "    # -1을 리턴하며 함수 종료\n",
    "    return -1"
   ]
  },
  {
   "cell_type": "code",
   "execution_count": 38,
   "metadata": {},
   "outputs": [],
   "source": [
    "def sequential_search(string, key):\n",
    "    for index, char in enumerate(string):\n",
    "        if char == key:\n",
    "            return index\n",
    "        return -1"
   ]
  },
  {
   "cell_type": "code",
   "execution_count": 36,
   "metadata": {
    "scrolled": true
   },
   "outputs": [
    {
     "name": "stdout",
     "output_type": "stream",
     "text": [
      "h\n",
      "e\n",
      "l\n",
      "l\n",
      "o\n"
     ]
    }
   ],
   "source": [
    "result = sequential_search('hello', 'x')"
   ]
  },
  {
   "cell_type": "code",
   "execution_count": 37,
   "metadata": {},
   "outputs": [
    {
     "name": "stdout",
     "output_type": "stream",
     "text": [
      "-1\n"
     ]
    }
   ],
   "source": [
    "print(result)"
   ]
  },
  {
   "cell_type": "code",
   "execution_count": 39,
   "metadata": {},
   "outputs": [],
   "source": [
    "def sequential_search(string, key):\n",
    "    index = 0\n",
    "    # 5글자 문자열\n",
    "    #  length :   5\n",
    "    #  최대 index: 4\n",
    "    while index < len(string):\n",
    "        # 주어진 문자열(string)에서 index번째의 문자를\n",
    "        # char변수에 할당\n",
    "        char = string[index]\n",
    "        print(f'Index: {index}, 현재문자:{char}')\n",
    "        if char == key:\n",
    "            print('\n",
    "        index += 1"
   ]
  },
  {
   "cell_type": "code",
   "execution_count": 17,
   "metadata": {},
   "outputs": [],
   "source": [
    "def sequential_search(string, key):\n",
    "    for x,v in enumerate(string):\n",
    "        if v == key:\n",
    "            return x\n",
    "    return -1"
   ]
  },
  {
   "cell_type": "code",
   "execution_count": 18,
   "metadata": {},
   "outputs": [
    {
     "data": {
      "text/plain": [
       "4"
      ]
     },
     "execution_count": 18,
     "metadata": {},
     "output_type": "execute_result"
    }
   ],
   "source": [
    "sequential_search('hello', 'o')"
   ]
  },
  {
   "cell_type": "markdown",
   "metadata": {},
   "source": [
    "# 선택정렬"
   ]
  },
  {
   "cell_type": "code",
   "execution_count": 40,
   "metadata": {},
   "outputs": [],
   "source": [
    "ori = [9,1,6,8,4,3,2,0]"
   ]
  },
  {
   "cell_type": "code",
   "execution_count": 41,
   "metadata": {},
   "outputs": [],
   "source": [
    "# for문을 사용해서\n",
    "# 0번째 loop -> 총 8개의 숫자 표시\n",
    "# 1번째 loop -> 0번째를 제외하고 1~7번까지의 숫자 표시\n",
    "# 2번째 loop -> 2 ~ 7번까지 숫자 표시\n",
    "# ....\n",
    "# 6번째 loop -> 6 ~ 7번까지 숫자 표시\n",
    "\n",
    "# 정리\n",
    "# 0번째 루프에서 비교할 수(최소값을 찾기 위해 순회해야 하는 수)는 전체\n",
    "# 1번째 루프에서 비교할 수는 전체 -1개\n",
    "# 2번째 루프에서 비교할 수는 전체 -2개\n",
    "# 7번째 루프에서 비교할 수는 전체 -7개"
   ]
  },
  {
   "cell_type": "code",
   "execution_count": 53,
   "metadata": {},
   "outputs": [
    {
     "name": "stdout",
     "output_type": "stream",
     "text": [
      "[9, 1, 6, 8, 4, 3, 2, 0]\n",
      "[1, 6, 8, 4, 3, 2, 0]\n",
      "[6, 8, 4, 3, 2, 0]\n",
      "[8, 4, 3, 2, 0]\n",
      "[4, 3, 2, 0]\n",
      "[0]\n"
     ]
    }
   ],
   "source": [
    "print(ori)\n",
    "print(ori[1:])\n",
    "print(ori[2:])\n",
    "print(ori[3:])\n",
    "print(ori[4:])\n",
    "print(ori[7:])"
   ]
  },
  {
   "cell_type": "code",
   "execution_count": 54,
   "metadata": {},
   "outputs": [
    {
     "name": "stdout",
     "output_type": "stream",
     "text": [
      "[9, 1, 6, 8, 4, 3, 2, 0]\n",
      "[1, 6, 8, 4, 3, 2, 0]\n",
      "[6, 8, 4, 3, 2, 0]\n",
      "[8, 4, 3, 2, 0]\n",
      "[4, 3, 2, 0]\n",
      "[3, 2, 0]\n",
      "[2, 0]\n",
      "[0]\n"
     ]
    }
   ],
   "source": [
    "for i in range(len(ori)):\n",
    "    print(ori[i:])"
   ]
  },
  {
   "cell_type": "code",
   "execution_count": 83,
   "metadata": {
    "scrolled": true
   },
   "outputs": [
    {
     "name": "stdout",
     "output_type": "stream",
     "text": [
      "[9, 1, 6, 8, 4, 3, 2, 0]\n",
      "최소: 9\n",
      "최소: 1\n",
      "최소: 1\n",
      "최소: 1\n",
      "최소: 1\n",
      "최소: 1\n",
      "최소: 1\n",
      "최소: 0\n",
      "[1, 6, 8, 4, 3, 2, 0]\n",
      "최소: 1\n",
      "최소: 1\n",
      "최소: 1\n",
      "최소: 1\n",
      "최소: 1\n",
      "최소: 1\n",
      "최소: 0\n",
      "[6, 8, 4, 3, 2, 0]\n",
      "최소: 6\n",
      "최소: 6\n",
      "최소: 4\n",
      "최소: 3\n",
      "최소: 2\n",
      "최소: 0\n",
      "[8, 4, 3, 2, 0]\n",
      "최소: 8\n",
      "최소: 4\n",
      "최소: 3\n",
      "최소: 2\n",
      "최소: 0\n",
      "[4, 3, 2, 0]\n",
      "최소: 4\n",
      "최소: 3\n",
      "최소: 2\n",
      "최소: 0\n",
      "[3, 2, 0]\n",
      "최소: 3\n",
      "최소: 2\n",
      "최소: 0\n",
      "[2, 0]\n",
      "최소: 2\n",
      "최소: 0\n",
      "[0]\n",
      "최소: 0\n"
     ]
    }
   ],
   "source": [
    "# min함수 쓰지말고 각 Loop의 리스트에서 가장 작은값을 출력\n",
    "for i in range(len(ori)):\n",
    "    print(ori[i:])\n",
    "    \n",
    "    # 현재 loop의 첫 번째 값을 최소값으로 지정\n",
    "    min = ori[i]\n",
    "    # ori의 i번째부터 끝까지를 순회함\n",
    "    # (i는 상위 Loop에서 1씩 증가)\n",
    "    for x in ori[i:]:\n",
    "        if x < min:\n",
    "            min = x\n",
    "        print('최소:', min)"
   ]
  },
  {
   "cell_type": "code",
   "execution_count": null,
   "metadata": {},
   "outputs": [],
   "source": []
  },
  {
   "cell_type": "code",
   "execution_count": null,
   "metadata": {},
   "outputs": [],
   "source": [
    "# min함수 쓰지말고 각 Loop의 리스트에서 가장 작은값을 출력\n",
    "for i in range(len(ori)):\n",
    "    print(ori[i:])\n",
    "    \n",
    "    # 현재 loop의 첫 번째 값을 최소값으로 지정\n",
    "    min = ori[i]\n",
    "    # 현재 loop의 최소값의 ori에서의 index를 저장\n",
    "    min_index = i\n",
    "    # ori의 i번째부터 끝까지를 순회함\n",
    "    # (i는 상위 Loop에서 1씩 증가)\n",
    "    for inner_index, x in enumerate(ori[i:]):\n",
    "        if x < min:\n",
    "            min = x\n",
    "            # 최소값을 지정하면서 현재 loop의 최소값 index갱신\n",
    "            min_index = i + inner_index\n",
    "        print('최소:', min, '최소 index:', min_index)\n",
    "        \n",
    "    # 최소값을 찾았으므로 i번째 요소의 위치를 바꿔줌\n",
    "    ori[i], ori[min_index] = ori[min_index], ori[i]"
   ]
  },
  {
   "cell_type": "code",
   "execution_count": null,
   "metadata": {},
   "outputs": [],
   "source": [
    "# min함수 쓰지말고 각 Loop의 리스트에서 가장 작은값을 출력\n",
    "for i in range(len(ori)):\n",
    "    print(ori[i:])\n",
    "    \n",
    "    # 현재 loop의 첫 번째 값을 최소값으로 지정\n",
    "    min = ori[i]\n",
    "    # 현재 loop의 최소값의 ori에서의 index를 저장\n",
    "    min_index = i\n",
    "    # ori의 i번째부터 끝까지를 순회함\n",
    "    # (i는 상위 Loop에서 1씩 증가)\n",
    "    for inner_index, x in enumerate(ori[i:]):\n",
    "        if x < min:\n",
    "            min = x\n",
    "            # 최소값을 지정하면서 현재 loop의 최소값 index갱신\n",
    "            min_index = i + inner_index\n",
    "        print('최소:', min, '최소 index:', min_index)\n",
    "        \n",
    "    # 최소값을 찾았으므로 i번째 요소의 위치를 바꿔줌\n",
    "    ori[i], ori[min_index] = ori[min_index], ori[i]"
   ]
  },
  {
   "cell_type": "code",
   "execution_count": 74,
   "metadata": {
    "scrolled": true
   },
   "outputs": [
    {
     "name": "stdout",
     "output_type": "stream",
     "text": [
      "현재숫자: 2\n",
      "최소: 2\n",
      "현재숫자: 4\n",
      "최소: 2\n",
      "현재숫자: 3\n",
      "최소: 2\n",
      "현재숫자: 1\n",
      "최소: 1\n",
      "현재숫자: 6\n",
      "최소: 1\n",
      "현재숫자: 0\n",
      "최소: 0\n",
      "현재숫자: -3\n",
      "최소: -3\n",
      "현재숫자: -5\n",
      "최소: -5\n",
      "현재숫자: 8\n",
      "최소: -5\n",
      "현재숫자: 9\n",
      "최소: -5\n"
     ]
    }
   ],
   "source": [
    "ori2 = [2, 4, 3, 1, 6, 0, -3, -5, 8, 9]\n",
    "small = ori2[0]\n",
    "\n",
    "for a in ori2:\n",
    "    if a < small:\n",
    "        small = a\n",
    "    print('현재숫자:', a)\n",
    "    print('최소:', small)"
   ]
  },
  {
   "cell_type": "code",
   "execution_count": null,
   "metadata": {},
   "outputs": [],
   "source": []
  },
  {
   "cell_type": "code",
   "execution_count": null,
   "metadata": {},
   "outputs": [],
   "source": []
  },
  {
   "cell_type": "code",
   "execution_count": 69,
   "metadata": {},
   "outputs": [
    {
     "data": {
      "text/plain": [
       "2"
      ]
     },
     "execution_count": 69,
     "metadata": {},
     "output_type": "execute_result"
    }
   ],
   "source": [
    "ori2[0]"
   ]
  },
  {
   "cell_type": "code",
   "execution_count": null,
   "metadata": {},
   "outputs": [],
   "source": []
  },
  {
   "cell_type": "code",
   "execution_count": null,
   "metadata": {},
   "outputs": [],
   "source": []
  },
  {
   "cell_type": "code",
   "execution_count": null,
   "metadata": {},
   "outputs": [],
   "source": []
  }
 ],
 "metadata": {
  "kernelspec": {
   "display_name": "Python 3",
   "language": "python",
   "name": "python3"
  },
  "language_info": {
   "codemirror_mode": {
    "name": "ipython",
    "version": 3
   },
   "file_extension": ".py",
   "mimetype": "text/x-python",
   "name": "python",
   "nbconvert_exporter": "python",
   "pygments_lexer": "ipython3",
   "version": "3.6.5"
  }
 },
 "nbformat": 4,
 "nbformat_minor": 2
}
